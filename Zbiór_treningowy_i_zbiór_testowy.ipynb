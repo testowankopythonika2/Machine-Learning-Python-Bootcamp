{
  "nbformat": 4,
  "nbformat_minor": 0,
  "metadata": {
    "colab": {
      "provenance": [],
      "authorship_tag": "ABX9TyMkPcJAs70pCTmK2WxrDAxI",
      "include_colab_link": true
    },
    "kernelspec": {
      "name": "python3",
      "display_name": "Python 3"
    },
    "language_info": {
      "name": "python"
    }
  },
  "cells": [
    {
      "cell_type": "markdown",
      "metadata": {
        "id": "view-in-github",
        "colab_type": "text"
      },
      "source": [
        "<a href=\"https://colab.research.google.com/github/testowankopythonika2/Machine-Learning-Python-Bootcamp/blob/main/Zbi%C3%B3r_treningowy_i_zbi%C3%B3r_testowy.ipynb\" target=\"_parent\"><img src=\"https://colab.research.google.com/assets/colab-badge.svg\" alt=\"Open In Colab\"/></a>"
      ]
    },
    {
      "cell_type": "markdown",
      "source": [
        "### Aby zainstalować bibliotekę scikit-learn, użyj polecenia poniżej:"
      ],
      "metadata": {
        "id": "pWFhQ6iXc_oL"
      }
    },
    {
      "cell_type": "code",
      "execution_count": 1,
      "metadata": {
        "colab": {
          "base_uri": "https://localhost:8080/"
        },
        "id": "erDACn25c73V",
        "outputId": "8fde4afc-8e29-44cc-ebbe-310e53525102"
      },
      "outputs": [
        {
          "output_type": "stream",
          "name": "stdout",
          "text": [
            "Looking in indexes: https://pypi.org/simple, https://us-python.pkg.dev/colab-wheels/public/simple/\n",
            "Requirement already satisfied: scikit-learn in /usr/local/lib/python3.10/dist-packages (1.2.2)\n",
            "Requirement already satisfied: numpy>=1.17.3 in /usr/local/lib/python3.10/dist-packages (from scikit-learn) (1.22.4)\n",
            "Requirement already satisfied: scipy>=1.3.2 in /usr/local/lib/python3.10/dist-packages (from scikit-learn) (1.10.1)\n",
            "Requirement already satisfied: joblib>=1.1.1 in /usr/local/lib/python3.10/dist-packages (from scikit-learn) (1.2.0)\n",
            "Requirement already satisfied: threadpoolctl>=2.0.0 in /usr/local/lib/python3.10/dist-packages (from scikit-learn) (3.1.0)\n"
          ]
        }
      ],
      "source": [
        "!pip install scikit-learn"
      ]
    },
    {
      "cell_type": "markdown",
      "source": [
        "### Aby zaktualizować do najnowszej wersji bibliotekę scikit-learn, użyj polecenia poniżej:"
      ],
      "metadata": {
        "id": "3YWqiwqTdMzQ"
      }
    },
    {
      "cell_type": "code",
      "source": [
        "!pip install --upgrade scikit-learn"
      ],
      "metadata": {
        "id": "2vWE4TpndXUT"
      },
      "execution_count": null,
      "outputs": []
    },
    {
      "cell_type": "markdown",
      "source": [
        "### Import bibliotek"
      ],
      "metadata": {
        "id": "wuylI2Y5dpxK"
      }
    },
    {
      "cell_type": "code",
      "source": [
        "import numpy as np\n",
        "import pandas as pd\n",
        "import sklearn\n",
        "import seaborn as sns\n",
        "\n",
        "np.random.seed(42)\n",
        "np.set_printoptions(edgeitems=30, linewidth=100000,\n",
        "                    formatter=dict(float=lambda x: f'{x:.2f}'))\n",
        "sns.set()\n",
        "sklearn.__version__"
      ],
      "metadata": {
        "id": "vp8GjzCCdrwC"
      },
      "execution_count": null,
      "outputs": []
    },
    {
      "cell_type": "markdown",
      "source": [
        "### Załadowanie danych"
      ],
      "metadata": {
        "id": "ymmUr-1yeYRi"
      }
    },
    {
      "cell_type": "code",
      "source": [
        "from sklearn.datasets import load_iris\n",
        "\n",
        "raw_data = load_iris()\n",
        "raw_data_copy = raw_data.copy()\n",
        "raw_data_copy.keys()"
      ],
      "metadata": {
        "id": "Fr2NFpAteuPp"
      },
      "execution_count": null,
      "outputs": []
    },
    {
      "cell_type": "code",
      "source": [
        "print(raw_data_copy['DESCR'])"
      ],
      "metadata": {
        "id": "7Ywpr0XIfLJQ"
      },
      "execution_count": null,
      "outputs": []
    },
    {
      "cell_type": "markdown",
      "source": [
        "### Przygotowanie danych"
      ],
      "metadata": {
        "id": "ktymXPZXfQmo"
      }
    },
    {
      "cell_type": "code",
      "source": [
        "data = raw_data_copy['data']\n",
        "target = raw_data_copy['target']\n",
        "\n",
        "print(f'{data[:5]}\\n')\n",
        "print(target[:5])"
      ],
      "metadata": {
        "id": "KsiGadE0fdin"
      },
      "execution_count": null,
      "outputs": []
    },
    {
      "cell_type": "code",
      "source": [
        "# połączenie atrybutów ze zmienną docelową\n",
        "\n",
        "all_data = np.c_[data, target]\n",
        "all_data[:5]"
      ],
      "metadata": {
        "id": "j6LKhl5agPwA"
      },
      "execution_count": null,
      "outputs": []
    },
    {
      "cell_type": "code",
      "source": [
        "# budowa obiektu DataFrame\n",
        "\n",
        "df = pd.DataFrame(data=all_data, columns=raw_data.feature_names + ['target'])\n",
        "df.head()"
      ],
      "metadata": {
        "id": "e_sXj0f9glaZ"
      },
      "execution_count": null,
      "outputs": []
    },
    {
      "cell_type": "code",
      "source": [
        "df.tail()"
      ],
      "metadata": {
        "id": "9Ns0K2oLhLXk"
      },
      "execution_count": null,
      "outputs": []
    },
    {
      "cell_type": "code",
      "source": [
        "df.info()"
      ],
      "metadata": {
        "id": "mC3Oh2Jahhcr"
      },
      "execution_count": null,
      "outputs": []
    },
    {
      "cell_type": "code",
      "source": [
        "df.describe()"
      ],
      "metadata": {
        "id": "robzMTPthim3"
      },
      "execution_count": null,
      "outputs": []
    },
    {
      "cell_type": "code",
      "source": [
        "df.describe().T.apply(lambda x: round(x, 2))"
      ],
      "metadata": {
        "id": "U0xWTHQVhlxT"
      },
      "execution_count": null,
      "outputs": []
    },
    {
      "cell_type": "code",
      "source": [
        "df.target.value_counts()"
      ],
      "metadata": {
        "id": "jVh4KlgYh2Lw"
      },
      "execution_count": null,
      "outputs": []
    },
    {
      "cell_type": "code",
      "source": [
        "df.target.value_counts().plot(kind='pie')"
      ],
      "metadata": {
        "id": "KIaVFe47h_-b"
      },
      "execution_count": null,
      "outputs": []
    },
    {
      "cell_type": "code",
      "source": [
        "data = df.copy()\n",
        "target = data.pop('target')\n",
        "data.head()"
      ],
      "metadata": {
        "id": "ltMaDERoiHqe"
      },
      "execution_count": null,
      "outputs": []
    },
    {
      "cell_type": "code",
      "source": [
        "target.head()"
      ],
      "metadata": {
        "id": "j4u3dJRliR7K"
      },
      "execution_count": null,
      "outputs": []
    },
    {
      "cell_type": "markdown",
      "source": [
        "### Podział danych na zbiór treningowy i testowy - iris data"
      ],
      "metadata": {
        "id": "WhAIckGgi9hY"
      }
    },
    {
      "cell_type": "code",
      "source": [
        "from sklearn.model_selection import train_test_split\n",
        "\n",
        "X_train, X_test, y_train, y_test = train_test_split(data, target, random_state=42)\n",
        "\n",
        "print(f'X_train_shape {X_train.shape}')\n",
        "print(f'y_train_shape {y_train.shape}')\n",
        "print(f'X_test_shape {X_test.shape}')\n",
        "print(f'X_test_shape {y_test.shape}')\n",
        "print(f'\\nTest ratio: {len(X_test) / len(data):.2f}')\n",
        "print(f'\\ny_train:\\n{y_train.value_counts()}')\n",
        "print(f'\\ny_test:\\n{y_test.value_counts()}')"
      ],
      "metadata": {
        "id": "uspyCzGBjCRT"
      },
      "execution_count": null,
      "outputs": []
    },
    {
      "cell_type": "code",
      "source": [
        "X_train, X_test, y_train, y_test = train_test_split(data, target, test_size=0.3, random_state=42)\n",
        "\n",
        "print(f'X_train_shape {X_train.shape}')\n",
        "print(f'y_train_shape {y_train.shape}')\n",
        "print(f'X_test_shape {X_test.shape}')\n",
        "print(f'X_test_shape {y_test.shape}')\n",
        "print(f'\\nTest ratio: {len(X_test) / len(data):.2f}')\n",
        "print(f'\\ny_train:\\n{y_train.value_counts()}')\n",
        "print(f'\\ny_test:\\n{y_test.value_counts()}')"
      ],
      "metadata": {
        "id": "3SbkG8U5ltBl"
      },
      "execution_count": null,
      "outputs": []
    },
    {
      "cell_type": "code",
      "source": [
        "X_train, X_test, y_train, y_test = train_test_split(data, target, train_size=0.9, random_state=42)\n",
        "\n",
        "print(f'X_train_shape {X_train.shape}')\n",
        "print(f'y_train_shape {y_train.shape}')\n",
        "print(f'X_test_shape {X_test.shape}')\n",
        "print(f'X_test_shape {y_test.shape}')\n",
        "print(f'\\nTest ratio: {len(X_test) / len(data):.2f}')\n",
        "print(f'\\ny_train:\\n{y_train.value_counts()}')\n",
        "print(f'\\ny_test:\\n{y_test.value_counts()}')"
      ],
      "metadata": {
        "id": "8-lMe1WGl6lo"
      },
      "execution_count": null,
      "outputs": []
    },
    {
      "cell_type": "code",
      "source": [
        "X_train, X_test, y_train, y_test = train_test_split(data, target, random_state=42, test_size=0.1, stratify=target)\n",
        "\n",
        "print(f'X_train_shape {X_train.shape}')\n",
        "print(f'y_train_shape {y_train.shape}')\n",
        "print(f'X_test_shape {X_test.shape}')\n",
        "print(f'X_test_shape {y_test.shape}')\n",
        "print(f'\\nTest ratio: {len(X_test) / len(data):.2f}')\n",
        "print(f'\\ny_train:\\n{y_train.value_counts()}')\n",
        "print(f'\\ny_test:\\n{y_test.value_counts()}')"
      ],
      "metadata": {
        "id": "VfZaIkIqmMwe"
      },
      "execution_count": null,
      "outputs": []
    },
    {
      "cell_type": "markdown",
      "source": [
        "### Podział danych na zbiór treningowy i testowy - breast cancer data"
      ],
      "metadata": {
        "id": "qahR8pFgmxma"
      }
    },
    {
      "cell_type": "code",
      "source": [
        "from sklearn.datasets import load_breast_cancer\n",
        "\n",
        "raw_data = load_breast_cancer()\n",
        "raw_data_copy = raw_data.copy()\n",
        "raw_data_copy.keys()"
      ],
      "metadata": {
        "id": "REPknUGqm20M"
      },
      "execution_count": null,
      "outputs": []
    },
    {
      "cell_type": "code",
      "source": [
        "print(raw_data_copy['DESCR'])"
      ],
      "metadata": {
        "id": "m8PLfD3SnfPo"
      },
      "execution_count": null,
      "outputs": []
    },
    {
      "cell_type": "code",
      "source": [
        "data = raw_data_copy['data']\n",
        "target = raw_data_copy['target']\n",
        "\n",
        "print(f'{data[:5]}\\n')\n",
        "print(target[:5])"
      ],
      "metadata": {
        "id": "r8AtUdDPnlon"
      },
      "execution_count": null,
      "outputs": []
    },
    {
      "cell_type": "code",
      "source": [
        "all_data = np.c_[data, target]\n",
        "all_data[:5]"
      ],
      "metadata": {
        "id": "HB2G0ogUn-14"
      },
      "execution_count": null,
      "outputs": []
    },
    {
      "cell_type": "code",
      "source": [
        "df = pd.DataFrame(data=all_data, columns=list(raw_data['feature_names']) + ['target'])\n",
        "df.head()"
      ],
      "metadata": {
        "id": "xZCDl39RoM2w"
      },
      "execution_count": null,
      "outputs": []
    },
    {
      "cell_type": "code",
      "source": [
        "df.target.value_counts()"
      ],
      "metadata": {
        "id": "-ODqQiLTsdBK"
      },
      "execution_count": null,
      "outputs": []
    },
    {
      "cell_type": "code",
      "source": [
        "data = df.copy()\n",
        "target = data.pop('target')\n",
        "data.head()"
      ],
      "metadata": {
        "id": "5TD0xxvltEL1"
      },
      "execution_count": null,
      "outputs": []
    },
    {
      "cell_type": "code",
      "source": [
        "target.head()"
      ],
      "metadata": {
        "id": "zqEiDAHLtNJ7"
      },
      "execution_count": null,
      "outputs": []
    },
    {
      "cell_type": "code",
      "source": [
        "from sklearn.model_selection import train_test_split\n",
        "\n",
        "X_train, X_test, y_train, y_test = train_test_split(data, target, random_state=40, test_size=0.25)\n",
        "\n",
        "print(f'X_train_shape {X_train.shape}')\n",
        "print(f'y_train_shape {y_train.shape}')\n",
        "print(f'X_test_shape {X_test.shape}')\n",
        "print(f'X_test_shape {y_test.shape}')\n",
        "print(f'\\nTest ratio: {len(X_test) / len(data):.2f}')\n",
        "print(f'\\ntarget:\\n{target.value_counts() / len(target)}')\n",
        "print(f'\\ny_train:\\n{y_train.value_counts() / len(y_train)}')\n",
        "print(f'\\ny_test:\\n{y_test.value_counts() / len(y_test)}')"
      ],
      "metadata": {
        "id": "_NWpsL2Cto9l"
      },
      "execution_count": null,
      "outputs": []
    },
    {
      "cell_type": "markdown",
      "source": [
        "### Równy podział ze względu na zmienną docelową"
      ],
      "metadata": {
        "id": "RJ1-yeaTurLf"
      }
    },
    {
      "cell_type": "code",
      "source": [
        "from sklearn.model_selection import train_test_split\n",
        "\n",
        "X_train, X_test, y_train, y_test = train_test_split(data, target, random_state=40, test_size=0.25, stratify=target)\n",
        "\n",
        "print(f'X_train_shape {X_train.shape}')\n",
        "print(f'y_train_shape {y_train.shape}')\n",
        "print(f'X_test_shape {X_test.shape}')\n",
        "print(f'X_test_shape {y_test.shape}')\n",
        "print(f'\\nTest ratio: {len(X_test) / len(data):.2f}')\n",
        "print(f'\\ntarget:\\n{target.value_counts() / len(target)}')\n",
        "print(f'\\ny_train:\\n{y_train.value_counts() / len(y_train)}')\n",
        "print(f'\\ny_test:\\n{y_test.value_counts() / len(y_test)}')"
      ],
      "metadata": {
        "colab": {
          "base_uri": "https://localhost:8080/"
        },
        "id": "YeeY4NjfuveM",
        "outputId": "f6d17862-a2d2-4a57-c333-174e0d9805ca"
      },
      "execution_count": 33,
      "outputs": [
        {
          "output_type": "stream",
          "name": "stdout",
          "text": [
            "X_train_shape (426, 30)\n",
            "y_train_shape (426,)\n",
            "X_test_shape (143, 30)\n",
            "X_test_shape (143,)\n",
            "\n",
            "Test ratio: 0.25\n",
            "\n",
            "target:\n",
            "1.0    0.627417\n",
            "0.0    0.372583\n",
            "Name: target, dtype: float64\n",
            "\n",
            "y_train:\n",
            "1.0    0.626761\n",
            "0.0    0.373239\n",
            "Name: target, dtype: float64\n",
            "\n",
            "y_test:\n",
            "1.0    0.629371\n",
            "0.0    0.370629\n",
            "Name: target, dtype: float64\n"
          ]
        }
      ]
    }
  ]
}